{
 "cells": [
  {
   "cell_type": "markdown",
   "metadata": {},
   "source": [
    "# Importing the necessary libraries:\n",
    "\n",
    "# pandas, numpy, scipy\n"
   ]
  },
  {
   "cell_type": "code",
   "execution_count": 2,
   "metadata": {},
   "outputs": [],
   "source": [
    "import pandas as pd\n",
    "import numpy as np\n",
    "from scipy import stats\n",
    "from statsmodels.stats.diagnostic import acorr_ljungbox\n",
    "import matplotlib.pyplot as plt\n",
    "import math\n",
    "from matplotlib import style\n",
    "import seaborn as sns\n",
    "from ipywidgets import *\n",
    "import itable\n",
    "\n",
    "plt.style.use('ggplot')\n"
   ]
  },
  {
   "cell_type": "markdown",
   "metadata": {},
   "source": [
    "# Merging the 3 sheets into a single DataFrame"
   ]
  },
  {
   "cell_type": "code",
   "execution_count": 3,
   "metadata": {},
   "outputs": [],
   "source": [
    "data_all = pd.concat(pd.read_excel('histo_cotation_2016_2017_2018.xlsx', sheet_name=None), ignore_index=True, sort=True)\n",
    "\n"
   ]
  },
  {
   "cell_type": "code",
   "execution_count": 4,
   "metadata": {},
   "outputs": [],
   "source": [
    "# UNCOMMEN TO TEST\n",
    "#data_all.head()\n",
    "#data_all"
   ]
  },
  {
   "cell_type": "markdown",
   "metadata": {},
   "source": [
    "# Cleaning BIAT Data"
   ]
  },
  {
   "cell_type": "code",
   "execution_count": 5,
   "metadata": {},
   "outputs": [],
   "source": [
    "biat_data = data_all[data_all['VALEUR'] == 'BIAT']\n",
    "\n",
    "biat_data = biat_data.assign(CLOTURE=pd.to_numeric(biat_data['CLOTURE']))\n",
    "\n",
    "rendement = np.zeros_like(biat_data['CLOTURE'])\n",
    "biat_data = biat_data.assign(RENDEMENT=rendement)\n",
    "index_nb_trans_zero = biat_data.index[biat_data['NB_TRANSACTION'] == 0].tolist()\n",
    "biat_data = biat_data.drop(index_nb_trans_zero)\n",
    "biat_data.loc[biat_data['NB_TRANSACTION'] == 0,]\n",
    "biat_data['SEANCE'] = biat_data['SEANCE'].astype(str)\n"
   ]
  },
  {
   "cell_type": "code",
   "execution_count": 6,
   "metadata": {},
   "outputs": [
    {
     "data": {
      "text/html": [
       "<div>\n",
       "<style scoped>\n",
       "    .dataframe tbody tr th:only-of-type {\n",
       "        vertical-align: middle;\n",
       "    }\n",
       "\n",
       "    .dataframe tbody tr th {\n",
       "        vertical-align: top;\n",
       "    }\n",
       "\n",
       "    .dataframe thead th {\n",
       "        text-align: right;\n",
       "    }\n",
       "</style>\n",
       "<table border=\"1\" class=\"dataframe\">\n",
       "  <thead>\n",
       "    <tr style=\"text-align: right;\">\n",
       "      <th></th>\n",
       "      <th>CAPITAUX</th>\n",
       "      <th>CLOTURE</th>\n",
       "      <th>CODE</th>\n",
       "      <th>DIVIDENDES</th>\n",
       "      <th>GROUPE</th>\n",
       "      <th>IND_RES</th>\n",
       "      <th>NB_TRANSACTION</th>\n",
       "      <th>OUVERTURE</th>\n",
       "      <th>PLUS_BAS</th>\n",
       "      <th>PLUS_HAUT</th>\n",
       "      <th>QUANTITE_NEGOCIEE</th>\n",
       "      <th>RENDEMENT</th>\n",
       "      <th>SEANCE</th>\n",
       "      <th>VALEUR</th>\n",
       "    </tr>\n",
       "  </thead>\n",
       "  <tbody>\n",
       "    <tr>\n",
       "      <td>5</td>\n",
       "      <td>21948.3</td>\n",
       "      <td>76.90</td>\n",
       "      <td>180045</td>\n",
       "      <td>NaN</td>\n",
       "      <td>11</td>\n",
       "      <td>NaN</td>\n",
       "      <td>6</td>\n",
       "      <td>76.35</td>\n",
       "      <td>76.35</td>\n",
       "      <td>77</td>\n",
       "      <td>286</td>\n",
       "      <td>0.0</td>\n",
       "      <td>2016-04-01 00:00:00</td>\n",
       "      <td>BIAT</td>\n",
       "    </tr>\n",
       "    <tr>\n",
       "      <td>499</td>\n",
       "      <td>24925</td>\n",
       "      <td>76.00</td>\n",
       "      <td>180045</td>\n",
       "      <td>NaN</td>\n",
       "      <td>11</td>\n",
       "      <td>NaN</td>\n",
       "      <td>5</td>\n",
       "      <td>76.9</td>\n",
       "      <td>76</td>\n",
       "      <td>76.9</td>\n",
       "      <td>325</td>\n",
       "      <td>0.0</td>\n",
       "      <td>2016-05-01 00:00:00</td>\n",
       "      <td>BIAT</td>\n",
       "    </tr>\n",
       "    <tr>\n",
       "      <td>993</td>\n",
       "      <td>156954</td>\n",
       "      <td>75.99</td>\n",
       "      <td>180045</td>\n",
       "      <td>NaN</td>\n",
       "      <td>11</td>\n",
       "      <td>NaN</td>\n",
       "      <td>19</td>\n",
       "      <td>75</td>\n",
       "      <td>75</td>\n",
       "      <td>75.99</td>\n",
       "      <td>2092</td>\n",
       "      <td>0.0</td>\n",
       "      <td>2016-06-01 00:00:00</td>\n",
       "      <td>BIAT</td>\n",
       "    </tr>\n",
       "    <tr>\n",
       "      <td>1487</td>\n",
       "      <td>14138.5</td>\n",
       "      <td>77.90</td>\n",
       "      <td>180045</td>\n",
       "      <td>NaN</td>\n",
       "      <td>11</td>\n",
       "      <td>NaN</td>\n",
       "      <td>9</td>\n",
       "      <td>75.99</td>\n",
       "      <td>75.99</td>\n",
       "      <td>77.9</td>\n",
       "      <td>186</td>\n",
       "      <td>0.0</td>\n",
       "      <td>2016-07-01 00:00:00</td>\n",
       "      <td>BIAT</td>\n",
       "    </tr>\n",
       "    <tr>\n",
       "      <td>1981</td>\n",
       "      <td>191524</td>\n",
       "      <td>76.27</td>\n",
       "      <td>180045</td>\n",
       "      <td>NaN</td>\n",
       "      <td>11</td>\n",
       "      <td>NaN</td>\n",
       "      <td>15</td>\n",
       "      <td>77.89</td>\n",
       "      <td>76.1</td>\n",
       "      <td>77.89</td>\n",
       "      <td>2498</td>\n",
       "      <td>0.0</td>\n",
       "      <td>2016-08-01 00:00:00</td>\n",
       "      <td>BIAT</td>\n",
       "    </tr>\n",
       "  </tbody>\n",
       "</table>\n",
       "</div>"
      ],
      "text/plain": [
       "     CAPITAUX  CLOTURE    CODE DIVIDENDES GROUPE IND_RES NB_TRANSACTION  \\\n",
       "5     21948.3    76.90  180045        NaN     11     NaN              6   \n",
       "499     24925    76.00  180045        NaN     11     NaN              5   \n",
       "993    156954    75.99  180045        NaN     11     NaN             19   \n",
       "1487  14138.5    77.90  180045        NaN     11     NaN              9   \n",
       "1981   191524    76.27  180045        NaN     11     NaN             15   \n",
       "\n",
       "     OUVERTURE PLUS_BAS PLUS_HAUT QUANTITE_NEGOCIEE  RENDEMENT  \\\n",
       "5        76.35    76.35        77               286        0.0   \n",
       "499       76.9       76      76.9               325        0.0   \n",
       "993         75       75     75.99              2092        0.0   \n",
       "1487     75.99    75.99      77.9               186        0.0   \n",
       "1981     77.89     76.1     77.89              2498        0.0   \n",
       "\n",
       "                   SEANCE VALEUR  \n",
       "5     2016-04-01 00:00:00   BIAT  \n",
       "499   2016-05-01 00:00:00   BIAT  \n",
       "993   2016-06-01 00:00:00   BIAT  \n",
       "1487  2016-07-01 00:00:00   BIAT  \n",
       "1981  2016-08-01 00:00:00   BIAT  "
      ]
     },
     "execution_count": 6,
     "metadata": {},
     "output_type": "execute_result"
    }
   ],
   "source": [
    "# UNCOMMENT TO TEST\n",
    "biat_data.head()"
   ]
  },
  {
   "cell_type": "markdown",
   "metadata": {},
   "source": [
    "## ADDING DIVIDEND"
   ]
  },
  {
   "cell_type": "code",
   "execution_count": 7,
   "metadata": {},
   "outputs": [],
   "source": [
    "biat_data['DIVIDENDE'] = 0.0\n",
    "biat_data.loc[biat_data['SEANCE'] == '15/06/2016', 'DIVIDENDE'] = 4.000\n",
    "biat_data.loc[biat_data['SEANCE'] == '2017-06-12 00:00:00', 'DIVIDENDE'] = 4.000\n",
    "biat_data.loc[biat_data['SEANCE'] == '14/05/18', 'DIVIDENDE'] = 4.250"
   ]
  },
  {
   "cell_type": "code",
   "execution_count": 87,
   "metadata": {},
   "outputs": [
    {
     "data": {
      "text/html": [
       "<center><table style=\"border: 1px solid black;color: black;\"><tr style=\"border: 1px solid black;color: black;\"><td style=\"\"></td><td style=\"background-color: grey;font-weight: bold;\">VALEUR</td><td style=\"background-color: grey;font-weight: bold;\">CAPITAUX</td><td style=\"background-color: grey;font-weight: bold;\">SEANCE</td><td style=\"background-color: grey;font-weight: bold;\">CLOTURE</td><td style=\"background-color: grey;font-weight: bold;\">NB_TRANSACTION</td><td style=\"background-color: grey;font-weight: bold;\">RENDEMENT</td><td style=\"background-color: grey;font-weight: bold;\">DIVIDENDE</td></tr><tr style=\"border: 1px solid black;color: black;\"><td style=\"color: black;font_weight: bold;background-color: lightgray;\">5</td><td style=\"font-weight: bold;color: purple;background-color: pink;\">BIAT</td><td style=\"font-weight: bold;color: purple;background-color: pink;\">21948.34</td><td style=\"font-weight: bold;color: purple;background-color: pink;\">2016-04-01 00:00:00</td><td style=\"font-weight: bold;color: purple;background-color: pink;\">76.9</td><td style=\"font-weight: bold;color: purple;background-color: pink;\">6</td><td style=\"font-weight: bold;color: purple;background-color: pink;\">nan</td><td style=\"font-weight: bold;color: purple;background-color: pink;\">0.0</td></tr><tr style=\"border: 1px solid black;color: black;\"><td style=\"color: black;font_weight: bold;background-color: lightgray;\">499</td><td style=\"font-weight: bold;color: purple;background-color: pink;\">BIAT</td><td style=\"font-weight: bold;color: purple;background-color: pink;\">24925</td><td style=\"font-weight: bold;color: purple;background-color: pink;\">2016-05-01 00:00:00</td><td style=\"font-weight: bold;color: purple;background-color: pink;\">76.0</td><td style=\"font-weight: bold;color: purple;background-color: pink;\">5</td><td style=\"font-weight: bold;color: purple;background-color: pink;\">-0.011772536225267236</td><td style=\"font-weight: bold;color: purple;background-color: pink;\">0.0</td></tr><tr style=\"border: 1px solid black;color: black;\"><td style=\"color: black;font_weight: bold;background-color: lightgray;\">993</td><td style=\"font-weight: bold;color: purple;background-color: pink;\">BIAT</td><td style=\"font-weight: bold;color: purple;background-color: pink;\">156954.45</td><td style=\"font-weight: bold;color: purple;background-color: pink;\">2016-06-01 00:00:00</td><td style=\"font-weight: bold;color: purple;background-color: pink;\">75.99</td><td style=\"font-weight: bold;color: purple;background-color: pink;\">19</td><td style=\"font-weight: bold;color: purple;background-color: pink;\">-0.00013158760463759573</td><td style=\"font-weight: bold;color: purple;background-color: pink;\">0.0</td></tr><tr style=\"border: 1px solid black;color: black;\"><td style=\"color: black;font_weight: bold;background-color: lightgray;\">1487</td><td style=\"font-weight: bold;color: purple;background-color: pink;\">BIAT</td><td style=\"font-weight: bold;color: purple;background-color: pink;\">14138.46</td><td style=\"font-weight: bold;color: purple;background-color: pink;\">2016-07-01 00:00:00</td><td style=\"font-weight: bold;color: purple;background-color: pink;\">77.9</td><td style=\"font-weight: bold;color: purple;background-color: pink;\">9</td><td style=\"font-weight: bold;color: purple;background-color: pink;\">0.02482420019500911</td><td style=\"font-weight: bold;color: purple;background-color: pink;\">0.0</td></tr><tr style=\"border: 1px solid black;color: black;\"><td style=\"color: black;font_weight: bold;background-color: lightgray;\">1981</td><td style=\"font-weight: bold;color: purple;background-color: pink;\">BIAT</td><td style=\"font-weight: bold;color: purple;background-color: pink;\">191523.72</td><td style=\"font-weight: bold;color: purple;background-color: pink;\">2016-08-01 00:00:00</td><td style=\"font-weight: bold;color: purple;background-color: pink;\">76.27</td><td style=\"font-weight: bold;color: purple;background-color: pink;\">15</td><td style=\"font-weight: bold;color: purple;background-color: pink;\">-0.021146276700555508</td><td style=\"font-weight: bold;color: purple;background-color: pink;\">0.0</td></tr><tr style=\"border: 1px solid black;color: black;\"><td style=\"color: black;font_weight: bold;background-color: lightgray;\">2475</td><td style=\"font-weight: bold;color: purple;background-color: pink;\">BIAT</td><td style=\"font-weight: bold;color: purple;background-color: pink;\">100305.42</td><td style=\"font-weight: bold;color: purple;background-color: pink;\">2016-11-01 00:00:00</td><td style=\"font-weight: bold;color: purple;background-color: pink;\">76.5</td><td style=\"font-weight: bold;color: purple;background-color: pink;\">12</td><td style=\"font-weight: bold;color: purple;background-color: pink;\">0.0030110646563429803</td><td style=\"font-weight: bold;color: purple;background-color: pink;\">0.0</td></tr><tr style=\"border: 1px solid black;color: black;\"><td style=\"color: black;font_weight: bold;background-color: lightgray;\">2969</td><td style=\"font-weight: bold;color: purple;background-color: pink;\">BIAT</td><td style=\"font-weight: bold;color: purple;background-color: pink;\">62258.34</td><td style=\"font-weight: bold;color: purple;background-color: pink;\">2016-12-01 00:00:00</td><td style=\"font-weight: bold;color: purple;background-color: pink;\">76.2</td><td style=\"font-weight: bold;color: purple;background-color: pink;\">6</td><td style=\"font-weight: bold;color: purple;background-color: pink;\">-0.00392927813988955</td><td style=\"font-weight: bold;color: purple;background-color: pink;\">0.0</td></tr><tr style=\"border: 1px solid black;color: black;\"><td style=\"color: black;font_weight: bold;background-color: lightgray;\">3461</td><td style=\"font-weight: bold;color: purple;background-color: pink;\">BIAT</td><td style=\"font-weight: bold;color: purple;background-color: pink;\">2366.65</td><td style=\"font-weight: bold;color: purple;background-color: pink;\">13/01/2016</td><td style=\"font-weight: bold;color: purple;background-color: pink;\">76.33</td><td style=\"font-weight: bold;color: purple;background-color: pink;\">4</td><td style=\"font-weight: bold;color: purple;background-color: pink;\">0.0017045831177782945</td><td style=\"font-weight: bold;color: purple;background-color: pink;\">0.0</td></tr><tr style=\"border: 1px solid black;color: black;\"><td style=\"color: black;font_weight: bold;background-color: lightgray;\">3953</td><td style=\"font-weight: bold;color: purple;background-color: pink;\">BIAT</td><td style=\"font-weight: bold;color: purple;background-color: pink;\">26115.12</td><td style=\"font-weight: bold;color: purple;background-color: pink;\">15/01/2016</td><td style=\"font-weight: bold;color: purple;background-color: pink;\">76.36</td><td style=\"font-weight: bold;color: purple;background-color: pink;\">4</td><td style=\"font-weight: bold;color: purple;background-color: pink;\">0.00039295304716795707</td><td style=\"font-weight: bold;color: purple;background-color: pink;\">0.0</td></tr><tr style=\"border: 1px solid black;color: black;\"><td style=\"color: black;font_weight: bold;background-color: lightgray;\">4445</td><td style=\"font-weight: bold;color: purple;background-color: pink;\">BIAT</td><td style=\"font-weight: bold;color: purple;background-color: pink;\">15353.52</td><td style=\"font-weight: bold;color: purple;background-color: pink;\">18/01/2016</td><td style=\"font-weight: bold;color: purple;background-color: pink;\">76.61</td><td style=\"font-weight: bold;color: purple;background-color: pink;\">7</td><td style=\"font-weight: bold;color: purple;background-color: pink;\">0.0032686176711827475</td><td style=\"font-weight: bold;color: purple;background-color: pink;\">0.0</td></tr></table></center>"
      ],
      "text/plain": [
       "<itable.itable.PrettyTable at 0x207a2383ec8>"
      ]
     },
     "execution_count": 87,
     "metadata": {},
     "output_type": "execute_result"
    }
   ],
   "source": [
    "dbiat = biat_data[['VALEUR','CAPITAUX','SEANCE','CLOTURE','NB_TRANSACTION','RENDEMENT','DIVIDENDE']].head(10)\n",
    "pt1 = itable.PrettyTable(dbiat,tstyle=itable.TableStyle(theme=\"theme1\"), center=True, header_row=True)\n",
    "pt1.set_cell_style(font_weight=\"bold\", color=\"purple\", background_color=\"pink\", rows=[0,1,2,3,4,5,6,7,8,9], cols=[0,1,2,3,4,5,6])\n",
    "pt1.set_col_header_style(background_color=\"grey\", font_weight=\"bold\", indices=[0,1,2,3,4,5,6])\n",
    "pt1"
   ]
  },
  {
   "cell_type": "markdown",
   "metadata": {},
   "source": [
    "# Variables calculations"
   ]
  },
  {
   "cell_type": "code",
   "execution_count": 9,
   "metadata": {},
   "outputs": [],
   "source": [
    "rendemnt_cal = np.log((biat_data['CLOTURE'] + biat_data['DIVIDENDE'])/(biat_data['CLOTURE'].shift(1)))\n",
    "\n",
    "biat_data['RENDEMENT'] = rendemnt_cal\n",
    "\n",
    "rt = np.nanmean(biat_data['RENDEMENT'])\n",
    "\n",
    "sum_r_rbarre = np.sum((biat_data['RENDEMENT'].replace(np.nan, 0.0) - rt)**2)\n",
    "\n",
    "sigma_squared = 250/(len(biat_data)-1) * sum_r_rbarre\n",
    "\n",
    "sigma = np.sqrt(sigma_squared)\n",
    "\n",
    "mu = 0.5 * sigma_squared + rt *250\n"
   ]
  },
  {
   "cell_type": "code",
   "execution_count": 10,
   "metadata": {},
   "outputs": [
    {
     "name": "stdout",
     "output_type": "stream",
     "text": [
      "rt = 0.0004389936061045819\n",
      "sigma_squared = 0.06750287285494198\n",
      "sigma = 0.2598131498884188\n",
      "mu = 0.14349983795361645\n"
     ]
    }
   ],
   "source": [
    "# UNCOMMENT TO TEST\n",
    "\n",
    "variables = { 'rt': rt, 'sigma_squared':sigma_squared, 'sigma':sigma, 'mu':mu}\n",
    "for variable, value in variables.items():\n",
    "    print(variable + \" = \" + str(value))"
   ]
  },
  {
   "cell_type": "markdown",
   "metadata": {},
   "source": [
    "# L-JUNG - BOX autocorrelation test"
   ]
  },
  {
   "cell_type": "code",
   "execution_count": 11,
   "metadata": {},
   "outputs": [
    {
     "data": {
      "text/plain": [
       "(array([0.02962876, 0.03173135, 0.5501539 , 1.00698674, 2.14741625,\n",
       "        2.16486974, 2.41513137, 3.24435629, 3.4890722 , 3.83927785]),\n",
       " array([0.86333528, 0.98425952, 0.90774246, 0.90873473, 0.82839408,\n",
       "        0.90392807, 0.93335104, 0.91810019, 0.94172156, 0.95430627]))"
      ]
     },
     "execution_count": 11,
     "metadata": {},
     "output_type": "execute_result"
    }
   ],
   "source": [
    "acorr_ljungbox(biat_data['RENDEMENT'].replace(np.nan, 0.0), lags= 5)\n",
    "acorr_ljungbox(biat_data['RENDEMENT'].replace(np.nan, 0.0), lags= 10)\n"
   ]
  },
  {
   "cell_type": "code",
   "execution_count": 12,
   "metadata": {},
   "outputs": [
    {
     "data": {
      "image/png": "[encoded data removed]",
      "text/plain": [
       "<Figure size 432x288 with 1 Axes>"
      ]
     },
     "metadata": {
      "needs_background": "light"
     },
     "output_type": "display_data"
    }
   ],
   "source": [
    "sns.scatterplot(x = 'SEANCE', y = 'RENDEMENT',data=biat_data)\n",
    "plt.show()"
   ]
  },
  {
   "cell_type": "markdown",
   "metadata": {},
   "source": [
    "# Noramlity Test"
   ]
  },
  {
   "cell_type": "code",
   "execution_count": 13,
   "metadata": {},
   "outputs": [
    {
     "data": {
      "text/plain": [
       "(0.5609124898910522, 0.0)"
      ]
     },
     "execution_count": 13,
     "metadata": {},
     "output_type": "execute_result"
    }
   ],
   "source": [
    "stats.shapiro(biat_data['RENDEMENT'].replace(np.nan, 0.0))"
   ]
  },
  {
   "cell_type": "code",
   "execution_count": 58,
   "metadata": {},
   "outputs": [
    {
     "data": {
      "image/png": "[encoded data removed]",
      "text/plain": [
       "<Figure size 432x288 with 1 Axes>"
      ]
     },
     "metadata": {
      "needs_background": "light"
     },
     "output_type": "display_data"
    }
   ],
   "source": [
    "sns.distplot(biat_data['RENDEMENT'].replace(np.nan, 0.0), hist = True);"
   ]
  },
  {
   "cell_type": "markdown",
   "metadata": {},
   "source": [
    "# Calcul de prix de l'option par l'equation Black & Scholes"
   ]
  },
  {
   "cell_type": "code",
   "execution_count": 15,
   "metadata": {},
   "outputs": [],
   "source": [
    "def modelBlackAndScholes(s0,k,interest_rate,sigma_squared,PorC):\n",
    "    \n",
    "    d1 = (np.log(s0/k) + (interest_rate + 0.5 * sigma_squared)) * 1/np.sqrt(sigma_squared)\n",
    "    d2 = d1 - np.sqrt(sigma_squared)\n",
    "    if(PorC=='c'):\n",
    "        op = s0 * stats.norm.cdf(d1) - k * (np.exp(-interest_rate)) * stats.norm.cdf(d2)\n",
    "    elif(PorC=='p'):\n",
    "        op  = k * np.exp(-interest_rate) * stats.norm.cdf(-d2) - s0 * stats.norm.cdf(-d1)\n",
    "    \n",
    "    \n",
    "    return op"
   ]
  },
  {
   "cell_type": "markdown",
   "metadata": {},
   "source": [
    "# Calcul de prix de l'option par simulation de Monte Carlo"
   ]
  },
  {
   "cell_type": "code",
   "execution_count": 17,
   "metadata": {},
   "outputs": [],
   "source": [
    "def modelBS_simulation(N,sigma_squared,k,interest_rate):\n",
    "    \n",
    "    normal = np.random.normal(size=N)\n",
    "    s = s0 * np.exp((interest_rate - sigma_squared/2) + np.sqrt(sigma_squared) * normal)\n",
    "    xx = np.maximum((s - k), 0)\n",
    "    op = np.mean(xx) * np.exp(-interest_rate)\n",
    "    \n",
    "    return op"
   ]
  },
  {
   "cell_type": "markdown",
   "metadata": {},
   "source": [
    "# Calcul de prix de l'option par le modèle de Cox, Ross et Rubinstein"
   ]
  },
  {
   "cell_type": "code",
   "execution_count": 21,
   "metadata": {},
   "outputs": [],
   "source": [
    "def modelCRR(K,T,S,sig,r,N,PorC):\n",
    "    \n",
    "    dt=T/N;\n",
    "    dxu=np.exp(sig*np.sqrt(dt));\n",
    "    dxd=np.exp(-sig*np.sqrt(dt));\n",
    "    pu=((np.exp(r*dt))-dxd)/(dxu-dxd);\n",
    "    pd=1-pu;\n",
    "    disc=np.exp(-r*dt);\n",
    "\n",
    "    St = [0] * (N+1)\n",
    "    C = [0] * (N+1)\n",
    "    \n",
    "    St[0]=S*dxd**N;\n",
    "    \n",
    "    for j in range(1, N+1): \n",
    "        St[j] = St[j-1] * dxu/dxd;\n",
    "    \n",
    "    for j in range(1, N+1):\n",
    "        if PorC == 'p':\n",
    "            C[j] = max(K-St[j],0);\n",
    "        elif PorC == 'c':\n",
    "            C[j] = max(St[j]-K,0);\n",
    "    \n",
    "    for i in range(N, 0, -1):\n",
    "        for j in range(0, i):\n",
    "            C[j] = disc*(pu*C[j+1]+pd*C[j]);\n",
    "            \n",
    "    return C[0]"
   ]
  },
  {
   "cell_type": "markdown",
   "metadata": {},
   "source": [
    "# Testing the results"
   ]
  },
  {
   "cell_type": "code",
   "execution_count": 47,
   "metadata": {},
   "outputs": [],
   "source": [
    "s0 = biat_data.iloc[-1]['CLOTURE']\n",
    "k = 125\n",
    "i = 0.07\n",
    "T = 1\n",
    "N_values = [100,1000,10000]\n",
    "crr_results = []\n",
    "bs_simulations = []\n",
    "for n in N_values:\n",
    "    crr_results.append(round(modelCRR(k,T,s0,sigma,i,n,'c'),4))\n",
    "    bs_simulations.append(round(modelBS_simulation(n,sigma_squared,k,i),4))\n",
    "    \n"
   ]
  },
  {
   "cell_type": "code",
   "execution_count": 120,
   "metadata": {},
   "outputs": [
    {
     "data": {
      "text/html": [
       "<center><table style=\"border: 1px solid black;color: black;\"><tr style=\"border: 1px solid black;color: black;\"><td style=\"background-color: grey;font-weight: bold;\">Direct BS Equation</td><td style=\"background-color: pink;font-weight: bold;\">13.7305</td></tr></table></center>"
      ],
      "text/plain": [
       "<itable.itable.PrettyTable at 0x207a5343a48>"
      ]
     },
     "execution_count": 120,
     "metadata": {},
     "output_type": "execute_result"
    }
   ],
   "source": [
    "dfbs = pd.DataFrame(columns=np.array([\"Direct BS Equation\",str(round(modelBlackAndScholes(s0,k,i,sigma_squared,'c'),4))]))\n",
    "pt2 = itable.PrettyTable(dfbs,tstyle=itable.TableStyle(theme=\"theme1\"), center=True)\n",
    "pt2.set_col_header_style(background_color=\"grey\", font_weight=\"bold\", indices=[0])\n",
    "pt2.set_col_header_style(background_color=\"pink\", font_weight=\"bold\", indices=[1])\n",
    "pt2"
   ]
  },
  {
   "cell_type": "code",
   "execution_count": 94,
   "metadata": {},
   "outputs": [
    {
     "data": {
      "text/html": [
       "<center><table style=\"border: 1px solid black;color: black;\"><tr style=\"border: 1px solid black;color: black;\"><td style=\"background-color: grey;font-weight: bold;\">Model</td><td style=\"background-color: grey;font-weight: bold;\">N=100</td><td style=\"background-color: grey;font-weight: bold;\">N=1000</td><td style=\"background-color: grey;font-weight: bold;\">N=10000</td><td style=\"background-color: grey;font-weight: bold;\">N=100000</td><td style=\"background-color: grey;font-weight: bold;\">Model ERROR</td></tr><tr style=\"border: 1px solid black;color: black;\"><td style=\"font-weight: bold;color: black;background-color: grey;\">CRR</td><td style=\"font-weight: bold;color: purple;background-color: pink;\">13.7246</td><td style=\"font-weight: bold;color: purple;background-color: pink;\">13.7318</td><td style=\"font-weight: bold;color: purple;background-color: pink;\">13.7307</td><td style=\"font-weight: bold;color: purple;background-color: pink;\">nan</td><td style=\"font-weight: bold;color: purple;background-color: pink;\">-0.0002</td></tr><tr style=\"border: 1px solid black;color: black;\"><td style=\"font-weight: bold;color: black;background-color: grey;\">BS_Sim</td><td style=\"font-weight: bold;color: purple;background-color: pink;\">14.6282</td><td style=\"font-weight: bold;color: purple;background-color: pink;\">14.93</td><td style=\"font-weight: bold;color: purple;background-color: pink;\">13.5564</td><td style=\"font-weight: bold;color: purple;background-color: pink;\">13.7309</td><td style=\"font-weight: bold;color: purple;background-color: pink;\">-0.0004</td></tr></table></center>"
      ],
      "text/plain": [
       "<itable.itable.PrettyTable at 0x207ac309808>"
      ]
     },
     "execution_count": 94,
     "metadata": {},
     "output_type": "execute_result"
    }
   ],
   "source": [
    "bs_direct = round(modelBlackAndScholes(s0,k,i,sigma_squared,'c'),4)\n",
    "bs_sim = round(modelBS_simulation(100000,sigma_squared,k,i),4)\n",
    "df = pd.DataFrame({\"Model\":[\"CRR\",\"BS_Sim\"], \"N=100\":[crr_results[0],bs_simulations[0]], \"N=1000\":[crr_results[1],bs_simulations[1]], \"N=10000\":[crr_results[2],bs_simulations[2]]\n",
    "                  ,\"N=100000\":[np.NaN,bs_sim], \"Model ERROR\": [round(bs_direct - crr_results[2],5),round(bs_direct - bs_sim,5)]})\n",
    "pt = itable.PrettyTable(df,tstyle=itable.TableStyle(theme=\"theme1\"), center=True)\n",
    "pt.set_cell_style(font_weight=\"bold\", color=\"purple\", background_color=\"pink\", rows=[0,1], cols=[1,2,3,4,5])\n",
    "pt.set_cell_style(font_weight=\"bold\", color=\"black\", background_color=\"grey\", rows=[0,1], cols=[0])\n",
    "pt.set_col_header_style(background_color=\"grey\", font_weight=\"bold\", indices=[0,1,2,3,4,5])\n",
    "pt.set_row_header_style(font_weight=\"bold\", indices=[0,1])\n",
    "pt"
   ]
  }
 ],
 "metadata": {
  "kernelspec": {
   "display_name": "Python 3",
   "language": "python",
   "name": "python3"
  },
  "language_info": {
   "codemirror_mode": {
    "name": "ipython",
    "version": 3
   },
   "file_extension": ".py",
   "mimetype": "text/x-python",
   "name": "python",
   "nbconvert_exporter": "python",
   "pygments_lexer": "ipython3",
   "version": "3.7.4"
  }
 },
 "nbformat": 4,
 "nbformat_minor": 4
}
